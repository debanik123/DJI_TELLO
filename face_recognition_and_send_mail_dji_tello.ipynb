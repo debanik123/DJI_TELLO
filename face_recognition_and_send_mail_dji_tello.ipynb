{
 "cells": [
  {
   "cell_type": "code",
   "execution_count": 1,
   "metadata": {},
   "outputs": [
    {
     "name": "stdout",
     "output_type": "stream",
     "text": [
      "[INFO] Sent Tello: command\n",
      "[INFO] Sent Tello: streamon\n",
      "[INFO] Sent Tello: takeoff\n"
     ]
    }
   ],
   "source": [
    "import face_recognition_dji_tello_mail_send as dji\n",
    "dji.dji_a()"
   ]
  },
  {
   "cell_type": "code",
   "execution_count": 5,
   "metadata": {},
   "outputs": [],
   "source": [
    "import mail_send_mass as m\n",
    "mypath = \"screen_short/\"+'Debanik.png'\n",
    "m.send_mail(mypath)\n"
   ]
  },
  {
   "cell_type": "code",
   "execution_count": null,
   "metadata": {},
   "outputs": [],
   "source": []
  }
 ],
 "metadata": {
  "kernelspec": {
   "display_name": "Python 3",
   "language": "python",
   "name": "python3"
  },
  "language_info": {
   "codemirror_mode": {
    "name": "ipython",
    "version": 3
   },
   "file_extension": ".py",
   "mimetype": "text/x-python",
   "name": "python",
   "nbconvert_exporter": "python",
   "pygments_lexer": "ipython3",
   "version": "3.7.3"
  }
 },
 "nbformat": 4,
 "nbformat_minor": 2
}
